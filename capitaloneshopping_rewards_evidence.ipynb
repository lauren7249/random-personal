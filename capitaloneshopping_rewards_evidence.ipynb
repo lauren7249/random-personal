{
 "cells": [
  {
   "cell_type": "code",
   "execution_count": 201,
   "id": "77e7407c",
   "metadata": {},
   "outputs": [],
   "source": [
    "import time\n",
    "import os\n",
    "import sys\n",
    "import re\n",
    "import pandas\n",
    "import numpy\n",
    "from selenium import webdriver\n",
    "from selenium.webdriver.firefox.options import Options\n",
    "from selenium.webdriver.firefox.service import Service\n",
    "from selenium.webdriver.common.by import By\n",
    "from selenium.webdriver.common.action_chains import ActionChains\n",
    "from selenium.webdriver.common.keys import Keys\n",
    "from PIL import Image\n",
    "home_dir = os.environ.get(\"HOME\")\n",
    "deltas = pandas.read_excel(f\"{home_dir}/Downloads/Deltas.xlsx\")"
   ]
  },
  {
   "cell_type": "code",
   "execution_count": 171,
   "id": "7bae2052",
   "metadata": {},
   "outputs": [
    {
     "name": "stdout",
     "output_type": "stream",
     "text": [
      "Hit enter after you've logged in and loaded all the orders on the page and scrolled to the top\n"
     ]
    }
   ],
   "source": [
    "\n",
    "dates_to_screenshot = [pandas.Timestamp(val) for val in deltas.Date.values]\n",
    "GECKODRIVER_PATH = '/usr/local/bin/geckodriver'\n",
    "profiles_folder = f'{home_dir}/Library/Caches/Firefox/Profiles/'\n",
    "default_profile = os.listdir(profiles_folder)[-1]\n",
    "profile_path = f'{profiles_folder}/{default_profile}'\n",
    "screenshot_path = f\"{home_dir}/Downloads/capitaloneshopping_rewards_evidence\"\n",
    "if not os.path.exists(screenshot_path): os.mkdir(screenshot_path)\n",
    "options = Options()\n",
    "options.add_argument(\"-profile\")\n",
    "options.add_argument(profile_path)\n",
    "service = Service(GECKODRIVER_PATH)\n",
    "driver = webdriver.Firefox(service=service, options=options)\n",
    "instacart_url = \"https://www.instacart.com/store/account/orders\"\n",
    "driver.get(instacart_url)\n",
    "input(\"\"\"Hit enter after you've logged in and loaded all the orders on the page and scrolled to the top\"\"\")\n",
    "if driver.current_url != instacart_url:\n",
    "    driver.get(instacart_url)\n",
    "    time.sleep(2)"
   ]
  },
  {
   "cell_type": "code",
   "execution_count": 172,
   "id": "3be58761",
   "metadata": {},
   "outputs": [],
   "source": [
    "driver.execute_script(\"document.body.style.transform = 'scale(0.3)';\")\n",
    "driver.execute_script(\"document.body.style.transformOrigin = '0 0';\")\n",
    "order_details = driver.find_elements(By.LINK_TEXT, 'View order detail')"
   ]
  },
  {
   "cell_type": "code",
   "execution_count": 173,
   "id": "14c674b3",
   "metadata": {},
   "outputs": [],
   "source": [
    "for order_detail in order_details[36:]:\n",
    "    action = ActionChains(driver)\n",
    "    driver.execute_script(\"arguments[0].scrollIntoView(true);\", order_detail)\n",
    "    action.key_down(Keys.COMMAND).click(order_detail).key_up(Keys.COMMAND).perform()\n",
    "    driver.switch_to.window(driver.window_handles[-1])\n",
    "    time.sleep(3)\n",
    "    driver.execute_script(\"document.body.style.transform = 'scale(0.3)';\")\n",
    "    driver.execute_script(\"document.body.style.transformOrigin = '0 0';\")\n",
    "    time.sleep(3)\n",
    "    if not 'Order canceled' in driver.page_source:\n",
    "        receipt_link = driver.find_element(By.PARTIAL_LINK_TEXT,'Receipt')\n",
    "        receipt_link.click()\n",
    "        time.sleep(2)\n",
    "        driver.switch_to.window(driver.window_handles[-1])\n",
    "        time.sleep(3)\n",
    "        driver.execute_script(\"document.body.style.transform = 'scale(0.3)';\")\n",
    "        driver.execute_script(\"document.body.style.transformOrigin = '0 0';\")\n",
    "        time.sleep(3)\n",
    "        schedule_text = driver.find_element(By.CLASS_NAME,'DriverDeliverySchedule').text\n",
    "        order_date = re.search('(?<=placed on ).+(?= and)',schedule_text).group(0)\n",
    "        if pandas.Timestamp(order_date) in dates_to_screenshot:\n",
    "            amount = driver.find_element(By.CLASS_NAME,'amount').text\n",
    "            driver.save_full_page_screenshot(f\"{screenshot_path}/{order_date} {amount}.png\")\n",
    "    driver.close()\n",
    "    driver.switch_to.window(driver.window_handles[-1])\n",
    "    driver.close()\n",
    "    driver.switch_to.window(driver.window_handles[0])\n",
    "driver.quit()"
   ]
  },
  {
   "cell_type": "code",
   "execution_count": 219,
   "id": "2de95beb",
   "metadata": {},
   "outputs": [],
   "source": [
    "files = sorted(os.listdir(screenshot_path), key=lambda x: os.stat(os.path.join(screenshot_path, x)).st_birthtime)\n",
    "files = [x for x in files if not x.startswith('.')]"
   ]
  },
  {
   "cell_type": "code",
   "execution_count": null,
   "id": "ba6c7901",
   "metadata": {},
   "outputs": [],
   "source": [
    "crop_box = (0, 0, 800, 1100)\n",
    "for filename in files:\n",
    "    if filename.startswith('.'):\n",
    "        continue\n",
    "    image = Image.open(f'{screenshot_path}/{filename}')\n",
    "    cropped_image = image.crop(crop_box)\n",
    "    cropped_image.save(f'{screenshot_path}/{filename}')"
   ]
  },
  {
   "cell_type": "code",
   "execution_count": 220,
   "id": "dbec7c95",
   "metadata": {},
   "outputs": [],
   "source": [
    "trip_numbers = [t.split(\", \") for t in deltas['Trip Number(s)'].values]\n",
    "trip_numbers = [item for sublist in trip_numbers for item in sublist]"
   ]
  },
  {
   "cell_type": "code",
   "execution_count": 221,
   "id": "8a267669",
   "metadata": {},
   "outputs": [],
   "source": [
    "for filename, trip_number in zip(files, trip_numbers):\n",
    "    os.rename(f'{screenshot_path}/{filename}', f\"{screenshot_path}/{filename.split(',')[0]}, {trip_number}.png\")"
   ]
  }
 ],
 "metadata": {
  "kernelspec": {
   "display_name": "Python 3 (ipykernel)",
   "language": "python",
   "name": "python3"
  },
  "language_info": {
   "codemirror_mode": {
    "name": "ipython",
    "version": 3
   },
   "file_extension": ".py",
   "mimetype": "text/x-python",
   "name": "python",
   "nbconvert_exporter": "python",
   "pygments_lexer": "ipython3",
   "version": "3.11.3"
  }
 },
 "nbformat": 4,
 "nbformat_minor": 5
}
